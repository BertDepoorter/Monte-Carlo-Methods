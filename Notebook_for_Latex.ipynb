{
 "cells": [
  {
   "cell_type": "code",
   "execution_count": 2,
   "id": "3b80e209-3449-42f6-b96a-3db7e12e8a3a",
   "metadata": {},
   "outputs": [
    {
     "name": "stdout",
     "output_type": "stream",
     "text": [
      "The sampled value is:  47.25656\n",
      "The exact value is:    47.24883\n"
     ]
    }
   ],
   "source": [
    "import numpy as np\n",
    "\n",
    "# generate gaussian random numbers\n",
    "n_sam = 1E8\n",
    "x = np.random.normal(0, 1, int(n_sam))\n",
    "y = np.random.normal(0, 1, int(n_sam))\n",
    "z = np.random.normal(0, 1, int(n_sam))\n",
    "\n",
    "integral = 0\n",
    "for i in range(int(n_sam)):\n",
    "    integral += (x[i]+y[i]+z[i])**2\n",
    "val_sam = 1/n_sam*(integral)*np.sqrt(2*np.pi)**3\n",
    "\n",
    "val_exact = 12*np.pi*np.sqrt(2*np.pi)/2\n",
    "\n",
    "print(r\"The sampled value is: \", round(val_sam,5))\n",
    "print(r\"The exact value is:   \", round(val_exact,5))"
   ]
  },
  {
   "cell_type": "code",
   "execution_count": null,
   "id": "d5d1659a-6a8d-478b-91e3-c2583f778e3a",
   "metadata": {},
   "outputs": [],
   "source": [
    "# get variance\n",
    "import matplotlib.pyplot as plt\n",
    "N_values = [1000, 5000, 10000, 50000, 100000, 500000, 1000000, 5000000]\n",
    "variances = []\n",
    "\n",
    "def get_variance(values):\n",
    "    var = np.var(values)\n",
    "    return var\n",
    "\n",
    "for N in N_values:\n",
    "    # Calculate value for 10 different chains\n",
    "    samples = 10\n",
    "    integrals = np.zeros(samples)\n",
    "    for sample in range(samples):\n",
    "        x = np.random.normal(0, 1, int(N))\n",
    "        y = np.random.normal(0, 1, int(N))\n",
    "        z = np.random.normal(0, 1, int(N))\n",
    "        \n",
    "        integral = 0\n",
    "        for i in range(int(N)):\n",
    "            integral += (x[i]+y[i]+z[i])**2\n",
    "        val_sam = 1/n_sam*(integral)*np.sqrt(2*np.pi)**3\n",
    "        integrals[sample] += val_sam\n",
    "    variance = get_variance(integrals)\n",
    "    variances.append(variance)\n",
    "\n",
    "fig, ax = plt.subplots(1,1, figsize=(8,6))\n",
    "ax.scatter(N_values, variances, color='black', label='Variances')\n",
    "    "
   ]
  },
  {
   "cell_type": "code",
   "execution_count": null,
   "id": "a7168d4f-28e8-4e6c-aa27-796ff50a8758",
   "metadata": {},
   "outputs": [],
   "source": []
  }
 ],
 "metadata": {
  "kernelspec": {
   "display_name": "Python 3 (ipykernel)",
   "language": "python",
   "name": "python3"
  },
  "language_info": {
   "codemirror_mode": {
    "name": "ipython",
    "version": 3
   },
   "file_extension": ".py",
   "mimetype": "text/x-python",
   "name": "python",
   "nbconvert_exporter": "python",
   "pygments_lexer": "ipython3",
   "version": "3.8.20"
  }
 },
 "nbformat": 4,
 "nbformat_minor": 5
}
