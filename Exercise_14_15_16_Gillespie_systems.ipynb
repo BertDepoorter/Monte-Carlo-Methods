{
 "cells": [
  {
   "cell_type": "markdown",
   "id": "109737fa-ffb9-4b90-b835-2d5240d7576f",
   "metadata": {},
   "source": [
    "# Gillespie Algorithm for Reaction Equations"
   ]
  },
  {
   "cell_type": "markdown",
   "id": "f5975051-3485-4e99-ae65-300f4d81e749",
   "metadata": {},
   "source": [
    "## Defining Class to solve system\n",
    "This block of code creates a class that will be used to solve reaction equations using the Gillespie algorithm. I will later on create a separate .py file from which we import this block of code."
   ]
  },
  {
   "cell_type": "code",
   "execution_count": 2,
   "id": "c1875255-d2b5-439c-bb23-8b364f820a7d",
   "metadata": {},
   "outputs": [],
   "source": [
    "import numpy as np\n",
    "import matplotlib.pyplot as plt\n",
    "\n",
    "from Gillespie import EvolutionGillespie"
   ]
  },
  {
   "cell_type": "markdown",
   "id": "0b77ab00-5c26-4b6b-ade2-7091ef18219f",
   "metadata": {},
   "source": [
    "## Lotka-Volterra Model\n",
    "In this block of code we simulate the simple Lotka-Volterra model. "
   ]
  },
  {
   "cell_type": "code",
   "execution_count": null,
   "id": "841435ea-de24-4381-ad08-d0b912478b40",
   "metadata": {},
   "outputs": [],
   "source": [
    "number_species = 2\n",
    "coeff = [1, 0.005, 0.6]  # Reaction rates: birth and death\n",
    "\n",
    "reactions = np.array([\n",
    "    # Ingoing\n",
    "    [[1, 0], [1, 1], [0, 1]],  \n",
    "    # Outgoing\n",
    "    [[2, 0], [0, 2], [0, 0]]\n",
    "])\n",
    "\n",
    "title = \"Simple Birth-Death Process\"\n",
    "\n",
    "# Create the system\n",
    "LotkaVolterra = EvolutionGillespie(number_species, coeff, reactions, title)"
   ]
  },
  {
   "cell_type": "code",
   "execution_count": null,
   "id": "3a2fc2ff-7b38-4360-b1b8-ad4fa2383825",
   "metadata": {},
   "outputs": [],
   "source": [
    "# Example: Simple Lotka-Volterra\n",
    "number_species = 2\n",
    "coeff = [1, 0.005, 0.6]  # Reaction rates: birth and death\n",
    "\n",
    "reactions = np.array([\n",
    "    # Ingoing\n",
    "    [[1, 0], [1, 1], [0, 1]],  \n",
    "    # Outgoing\n",
    "    [[2, 0], [0, 2], [0, 0]]\n",
    "])\n",
    "\n",
    "title = \"Simple Birth-Death Process\"\n",
    "\n",
    "# Create the system\n",
    "LotkaVolterra = EvolutionGillespie(number_species, coeff, reactions, title)\n",
    "\n",
    "# Simulate\n",
    "initial_state = [100, 20]  # Start with 10 individuals of species 0\n",
    "t_max = 400\n",
    "times, populations = LotkaVolterra.simulate(initial_state, t_max)\n",
    "\n",
    "\n"
   ]
  },
  {
   "cell_type": "code",
   "execution_count": null,
   "id": "dffe61ee-f65e-497b-8d1a-930c91a8568e",
   "metadata": {},
   "outputs": [],
   "source": [
    "fig, ax = plt.subplots(1,1, figsize=(8,6))\n",
    "populations = np.array(populations)\n",
    "ax.plot(times, populations[:, 0], color='blue', label='Prey')\n",
    "ax.plot(times, populations[:, 1], color='orange', label='Predator')\n",
    "ax.grid()\n",
    "ax.legend()\n",
    "ax.set_title('Lotka-Volterra Model', fontsize=18)\n",
    "ax.set_xlabel('Time', fontsize=14)\n",
    "ax.set_ylabel('Population', fontsize=14)\n",
    "fig.savefig('Plots/ex15_LotkaVolterra_evolution.png', dpi=300)"
   ]
  },
  {
   "cell_type": "code",
   "execution_count": null,
   "id": "dd38fb5a-c2aa-4429-8b1b-ae74bab8b79c",
   "metadata": {},
   "outputs": [],
   "source": [
    "fig, ax = plt.subplots(1,1, figsize=(8,8))\n",
    "ax.plot(populations[:,0], populations[:, 1], color='red', alpha=0.5, label='Population evolution')\n",
    "ax.scatter(populations[0, 0], populations[0, 1], s=100, color='black', label='Starting point')\n",
    "ax.scatter(populations[-1, 0], populations[-1, 1], s=100, color='gray', label='End point')\n",
    "ax.set_xlabel(r'Population $Y_1$, prey', fontsize=14)\n",
    "ax.set_ylabel(r'Population $Y_2$, predator', fontsize=14)\n",
    "ax.set_title('Population Evolution Lotka-Volterra Model', fontsize=18)\n",
    "ax.legend()\n",
    "ax.grid()\n",
    "fig.savefig('Plots/ex15_Lotka_volterra_each_other', dpi=300)"
   ]
  },
  {
   "cell_type": "code",
   "execution_count": null,
   "id": "fd065b14-f72b-4f6e-a3b7-19863c3d29cc",
   "metadata": {},
   "outputs": [],
   "source": [
    "def count_oscillations(times, populations):\n",
    "    \"\"\"\n",
    "    Count the number of oscillations for both prey and predator populations.\n",
    "    \n",
    "    An oscillation is defined as a crossing of the population over its mean value.\n",
    "    \n",
    "    Parameters:\n",
    "    - times (list): List of time points from the simulation.\n",
    "    - populations (list of lists): Populations of each species at each time point.\n",
    "\n",
    "    Returns:\n",
    "    - prey_oscillations (int): Number of oscillations for the prey population.\n",
    "    - predator_oscillations (int): Number of oscillations for the predator population.\n",
    "    \"\"\"\n",
    "    populations = np.array(populations)\n",
    "    \n",
    "    # Separate prey and predator populations\n",
    "    prey_population = populations[:, 0]\n",
    "    predator_population = populations[:, 1]\n",
    "    \n",
    "    # Calculate mean populations\n",
    "    prey_mean = np.mean(prey_population)\n",
    "    predator_mean = np.mean(predator_population)\n",
    "    \n",
    "    # Find zero crossings (oscillations) for prey\n",
    "    prey_crossings = np.diff(prey_population > prey_mean).nonzero()[0]\n",
    "    prey_oscillations = len(prey_crossings)\n",
    "    \n",
    "    # Find zero crossings (oscillations) for predator\n",
    "    predator_crossings = np.diff(predator_population > predator_mean).nonzero()[0]\n",
    "    predator_oscillations = len(predator_crossings)\n",
    "    \n",
    "    return prey_oscillations, predator_oscillations\n"
   ]
  },
  {
   "cell_type": "code",
   "execution_count": null,
   "id": "173ec597-72ed-4045-b881-9d47bc6d79da",
   "metadata": {},
   "outputs": [],
   "source": [
    "# Count oscillations\n",
    "populations = np.array(populations)\n",
    "prey_oscillations, predator_oscillations = count_oscillations(times, populations)\n",
    "\n",
    "print(f\"Prey oscillations: {prey_oscillations}\")\n",
    "print(f\"Predator oscillations: {predator_oscillations}\")\n"
   ]
  },
  {
   "cell_type": "code",
   "execution_count": null,
   "id": "ce030b92-bca6-42e0-801b-61bfd7831247",
   "metadata": {},
   "outputs": [],
   "source": [
    "# get mean number\n",
    "oscillations_prey = np.zeros(20)\n",
    "oscillations_predator = np.zeros(20)\n",
    "for k in range(20):\n",
    "    initial_state = [100, 20]  # Start with 10 individuals of species 0\n",
    "    t_max = 400\n",
    "    times, populations = LotkaVolterra.simulate(initial_state, t_max)\n",
    "    populations = np.array(populations)\n",
    "    prey_oscillations, predator_oscillations = count_oscillations(times, populations)\n",
    "    print(f\"Prey oscillations: {prey_oscillations}\")\n",
    "    print(f\"Predator oscillations: {predator_oscillations}\")\n",
    "    oscillations_prey[k] = prey_oscillations\n",
    "    oscillations_predator[k] = predator_oscillations"
   ]
  },
  {
   "cell_type": "code",
   "execution_count": null,
   "id": "697f0684-ff68-426b-beb4-7359e32de24f",
   "metadata": {},
   "outputs": [],
   "source": [
    "# get mean\n",
    "mean_prey = np.mean(oscillations_prey)\n",
    "mean_predator = np.mean(oscillations_predator)"
   ]
  },
  {
   "cell_type": "code",
   "execution_count": null,
   "id": "31efde2d-d7dc-4ad9-b511-551dacc16a76",
   "metadata": {},
   "outputs": [],
   "source": [
    "print(mean_prey/2)\n",
    "print(mean_predator/2)"
   ]
  },
  {
   "cell_type": "code",
   "execution_count": null,
   "id": "d17d5c42-7304-4c8c-a60b-f554efe81cbe",
   "metadata": {},
   "outputs": [],
   "source": [
    "def calculate_extinction_time(times, populations):\n",
    "    \"\"\"\n",
    "    Calculate the extinction time, defined as the time at which one of the populations becomes zero.\n",
    "    \n",
    "    Parameters:\n",
    "    - times (list): List of time points from the simulation.\n",
    "    - populations (list of lists): Populations of each species at each time point.\n",
    "    \n",
    "    Returns:\n",
    "    - extinction_time (float): Time at which one population goes extinct. Returns None if no extinction occurs.\n",
    "    \"\"\"\n",
    "    populations = np.array(populations)\n",
    "    \n",
    "    # Iterate through the populations to find when any species reaches zero\n",
    "    for i, pop in enumerate(populations):\n",
    "        if np.any(pop <= 0):  # Check if any population is zero or negative\n",
    "            return times[i]  # Return the corresponding time\n",
    "    \n",
    "    return None  # No extinction occurred within the simulation time\n",
    "\n",
    "# Example usage\n",
    "extinction_time = calculate_extinction_time(times, populations)\n",
    "if extinction_time is not None:\n",
    "    print(f\"Extinction occurred at time: {extinction_time:.2f}\")\n",
    "else:\n",
    "    print(\"No extinction occurred during the simulation.\")\n"
   ]
  },
  {
   "cell_type": "code",
   "execution_count": null,
   "id": "be621bfa-ce62-4dff-9a1b-10f91868c929",
   "metadata": {},
   "outputs": [],
   "source": [
    "def extinction_time_distribution(system, initial_state, t_max, n_runs):\n",
    "    \"\"\"\n",
    "    Simulate the system multiple times to determine the distribution of extinction times.\n",
    "    \n",
    "    Parameters:\n",
    "    - system (EvolutionGillespie): The system object to simulate.\n",
    "    - initial_state (list): Initial populations of the species.\n",
    "    - t_max (float): Maximum simulation time.\n",
    "    - n_runs (int): Number of simulations to run.\n",
    "    \n",
    "    Returns:\n",
    "    - extinction_times (list): List of extinction times for each run. If no extinction occurs, time is set to t_max.\n",
    "    \"\"\"\n",
    "    extinction_times = []\n",
    "    \n",
    "    for k in range(n_runs):\n",
    "        # Run the simulation\n",
    "        times, populations = system.simulate(initial_state, t_max)\n",
    "        # Calculate extinction time\n",
    "        extinction_time = calculate_extinction_time(times, populations)\n",
    "        # If no extinction, set the time to t_max\n",
    "        extinction_times.append(extinction_time if extinction_time is not None else t_max)\n",
    "    \n",
    "    return extinction_times\n",
    "\n",
    "def plot_extinction_time_histogram(extinction_times, t_max, bins=20):\n",
    "    \"\"\"\n",
    "    Plot a histogram of extinction times.\n",
    "    \n",
    "    Parameters:\n",
    "    - extinction_times (list): List of extinction times.\n",
    "    - t_max (float): Maximum simulation time.\n",
    "    - bins (int): Number of bins for the histogram.\n",
    "    \"\"\"\n",
    "    plt.figure(figsize=(10, 6))\n",
    "    plt.hist(extinction_times, bins=bins, range=(0, t_max), color='skyblue', edgecolor='black', density=True)\n",
    "    plt.xlabel(\"Extinction Time\")\n",
    "    plt.ylabel(\"Frequency\")\n",
    "    plt.title(\"Distribution of Extinction Times\")\n",
    "    plt.grid(True)\n",
    "    plt.show()\n",
    "\n",
    "# Run the simulation for a distribution of extinction times\n",
    "n_runs = 50  # Number of simulations\n",
    "t_max = 400  # Maximum simulation time\n",
    "extinction_times = extinction_time_distribution(LotkaVolterra, initial_state, t_max, n_runs)\n",
    "\n",
    "# Plot the histogram of extinction times\n",
    "plot_extinction_time_histogram(extinction_times, t_max)\n"
   ]
  },
  {
   "cell_type": "code",
   "execution_count": null,
   "id": "6f62e576-c7e6-4a0c-9003-39932939811f",
   "metadata": {},
   "outputs": [],
   "source": [
    "def plot_extinction_time_histogram(extinction_times, t_max, bins=20):\n",
    "    \"\"\"\n",
    "    Plot a histogram of extinction times.\n",
    "    \n",
    "    Parameters:\n",
    "    - extinction_times (list): List of extinction times.\n",
    "    - t_max (float): Maximum simulation time.\n",
    "    - bins (int): Number of bins for the histogram.\n",
    "    \"\"\"\n",
    "    plt.figure(figsize=(10, 6))\n",
    "    plt.hist(extinction_times, bins=bins, range=(0, t_max), color='skyblue', edgecolor='black', density=True)\n",
    "    plt.xlabel(\"Extinction Time\")\n",
    "    plt.ylabel(\"Frequency\")\n",
    "    plt.title(\"Distribution of Extinction Times\")\n",
    "    plt.grid(True)\n",
    "    plt.savefig('Plots/ex15_hist_extinction.png', dpi=300)\n",
    "    plt.show()\n",
    "plot_extinction_time_histogram(extinction_times, t_max)"
   ]
  },
  {
   "cell_type": "markdown",
   "id": "0230a99e-2a3a-4805-b38e-28b71c62c391",
   "metadata": {},
   "source": [
    "## Brusselator Model\n",
    "This code is concerned with evolving the brusselator problem, containing 4 reaction equations."
   ]
  },
  {
   "cell_type": "code",
   "execution_count": 3,
   "id": "92be2932-2991-46e3-8ad3-c86718eec34d",
   "metadata": {},
   "outputs": [],
   "source": [
    "# Brusselator model\n",
    "number_species = 2\n",
    "coeff = [5*10**3, 50, 5*10**(-5), 5] \n",
    "\n",
    "reactions = np.array([\n",
    "    [[0, 0], [1, 0], [2, 1], [1, 0]],  \n",
    "    [[1, 0], [0, 1], [3, 0], [0, 0]]\n",
    "])\n",
    "title = \"Brusselator model\"\n",
    "\n",
    "# Create the system\n",
    "brusselator = EvolutionGillespie(number_species, coeff, reactions, title)"
   ]
  },
  {
   "cell_type": "code",
   "execution_count": null,
   "id": "da967479-f122-4148-94da-4050d5f17cd9",
   "metadata": {},
   "outputs": [],
   "source": [
    "# Simulate\n",
    "initial_state = [1000, 2000]  \n",
    "t_max = 10\n",
    "times, populations = brusselator.simulate(initial_state, t_max)"
   ]
  },
  {
   "cell_type": "code",
   "execution_count": null,
   "id": "491e66c6-b286-4534-8a37-c95d6c4d5e01",
   "metadata": {},
   "outputs": [],
   "source": [
    "# Plot the evolution of species 0 and 1\n",
    "fig, ax = brusselator.plot_species(times, populations, 0, 1)\n",
    "fig.savefig('Plots/ex16_Brusselator_behaviour.png', dpi=300)\n",
    "plt.show()"
   ]
  },
  {
   "cell_type": "code",
   "execution_count": null,
   "id": "172e00ee-9bdc-4cdb-abcb-4fc6675bc261",
   "metadata": {},
   "outputs": [],
   "source": [
    "fig, ax = brusselator.plot_species_against_each_other(populations, 0, 1)\n",
    "fig.savefig('Plots/ex16_brusselator_each_other.png', dpi=300)"
   ]
  },
  {
   "cell_type": "code",
   "execution_count": null,
   "id": "7c4cd53e-9927-4a92-b253-1cb13260b9c7",
   "metadata": {},
   "outputs": [],
   "source": [
    "initial_state = [1000, 2000]  \n",
    "t_max = 10\n",
    "\n",
    "fig, ax = plt.subplots(1,1, figsize=(8,8))\n",
    "\n",
    "for i in range(10):\n",
    "    times, populations = brusselator.simulate(initial_state, t_max)\n",
    "    populations = np.array(populations)\n",
    "    ax.plot(populations[:,0], populations[:,1], color='red', alpha=0.5, label='Sampling '+str(i+1))\n",
    "ax.scatter(populations[0, 0], populations[0, 1], s=100, color='black', label='Starting point')\n",
    "#ax.scatter(populations[-1, 0], populations[-1, 1], s=100, color='gray', label='End point')\n",
    "ax.set_xlabel(r'Population $Y_1$', fontsize=14)\n",
    "ax.set_ylabel(r'Population $Y_2$', fontsize=14)\n",
    "ax.set_title('Population Evolution Brusselator Model', fontsize=18)\n",
    "ax.legend()\n",
    "ax.grid()\n",
    "fig.savefig('Plots/ex16_brusselator_a', dpi=300)"
   ]
  },
  {
   "cell_type": "code",
   "execution_count": null,
   "id": "5a1bd0ca-ab62-4a78-a29e-a2b48be36997",
   "metadata": {},
   "outputs": [],
   "source": [
    "initial_state = [1000, 4000]  \n",
    "t_max = 10\n",
    "\n",
    "fig, ax = plt.subplots(1,1, figsize=(8,8))\n",
    "\n",
    "for i in range(10):\n",
    "    times, populations = brusselator.simulate(initial_state, t_max)\n",
    "    populations = np.array(populations)\n",
    "    ax.plot(populations[:,0], populations[:,1], color='red', alpha=0.5, label='Sampling '+str(i+1))\n",
    "ax.scatter(populations[0, 0], populations[0, 1], s=100, color='black', label='Starting point')\n",
    "#ax.scatter(populations[-1, 0], populations[-1, 1], s=100, color='gray', label='End point')\n",
    "ax.set_xlabel(r'Population $Y_1$', fontsize=14)\n",
    "ax.set_ylabel(r'Population $Y_2$', fontsize=14)\n",
    "ax.set_title('Population Evolution Brusselator Model', fontsize=18)\n",
    "ax.legend()\n",
    "ax.grid()\n",
    "fig.savefig('Plots/ex16_brusselator_ba_longer', dpi=300)"
   ]
  },
  {
   "cell_type": "code",
   "execution_count": null,
   "id": "dd146b55-5f8e-4cda-9134-17a37feec818",
   "metadata": {},
   "outputs": [],
   "source": [
    "initial_state = [5000, 5000]  \n",
    "t_max = 10\n",
    "\n",
    "fig, ax = plt.subplots(1,1, figsize=(8,8))\n",
    "\n",
    "for i in range(10):\n",
    "    times, populations = brusselator.simulate(initial_state, t_max)\n",
    "    populations = np.array(populations)\n",
    "    ax.plot(populations[:,0], populations[:,1], color='red', alpha=0.5, label='Sampling '+str(i+1))\n",
    "ax.scatter(populations[0, 0], populations[0, 1], s=100, color='black', label='Starting point')\n",
    "#ax.scatter(populations[-1, 0], populations[-1, 1], s=100, color='gray', label='End point')\n",
    "ax.set_xlabel(r'Population $Y_1$', fontsize=14)\n",
    "ax.set_ylabel(r'Population $Y_2$', fontsize=14)\n",
    "ax.set_title('Population Evolution Brusselator Model', fontsize=18)\n",
    "ax.legend()\n",
    "ax.grid()\n",
    "fig.savefig('Plots/ex16_brusselator_bb_longer', dpi=300)"
   ]
  },
  {
   "cell_type": "code",
   "execution_count": null,
   "id": "839fefcb-d07d-4ba8-a2be-d4dc64e5929e",
   "metadata": {},
   "outputs": [],
   "source": [
    "initial_state = [500, 500]  \n",
    "t_max = 10\n",
    "\n",
    "fig, ax = plt.subplots(1,1, figsize=(8,8))\n",
    "\n",
    "for i in range(10):\n",
    "    times, populations = brusselator.simulate(initial_state, t_max)\n",
    "    populations = np.array(populations)\n",
    "    ax.plot(populations[:,0], populations[:,1], color='red', alpha=0.5, label='Sampling '+str(i+1))\n",
    "ax.scatter(populations[0, 0], populations[0, 1], s=100, color='black', label='Starting point')\n",
    "#ax.scatter(populations[-1, 0], populations[-1, 1], s=100, color='gray', label='End point')\n",
    "ax.set_xlabel(r'Population $Y_1$', fontsize=14)\n",
    "ax.set_ylabel(r'Population $Y_2$', fontsize=14)\n",
    "ax.set_title('Population Evolution Brusselator Model', fontsize=18)\n",
    "ax.legend()\n",
    "ax.grid()\n",
    "fig.savefig('Plots/ex16_brusselator_bc_longer', dpi=300)"
   ]
  },
  {
   "cell_type": "markdown",
   "id": "07aeaa5a-0a14-4d99-b98d-43e5fe96bdac",
   "metadata": {
    "jp-MarkdownHeadingCollapsed": true
   },
   "source": [
    "## Birth-Annihilation Process\n",
    "This block of code is concerned with the birth annihilation model of exercise 4.14\n"
   ]
  },
  {
   "cell_type": "code",
   "execution_count": null,
   "id": "628c5b05-32a9-4023-9557-f280c0ca5de8",
   "metadata": {},
   "outputs": [],
   "source": [
    "# Birth - Annihilation model\n",
    "number_species = 1\n",
    "coeff = [1, 0.2] \n",
    "\n",
    "reactions = np.array([\n",
    "    [[1], [1]],  \n",
    "    [[0], [2]]\n",
    "])\n",
    "title = \"Birth-Annihilation model\"\n",
    "\n",
    "# Create the system\n",
    "BirthAnnihilation = EvolutionGillespie(number_species, coeff, reactions, title)"
   ]
  },
  {
   "cell_type": "code",
   "execution_count": null,
   "id": "fe1e5f8f-4062-4977-9904-fe6f528fc53e",
   "metadata": {},
   "outputs": [],
   "source": [
    "# Simulate\n",
    "initial_state = [100]  \n",
    "t_max = 10\n",
    "for i in range(10):\n",
    "    times, populations = BirthAnnihilation.simulate(initial_state, t_max)"
   ]
  },
  {
   "cell_type": "code",
   "execution_count": null,
   "id": "af290651-64e8-45e7-8db6-5431aa179d14",
   "metadata": {},
   "outputs": [],
   "source": [
    "# Plot behaviour\n",
    "\n",
    "initial_state = [10000]  \n",
    "t_max = 15\n",
    "\n",
    "fig, ax = plt.subplots(1,1, figsize=(8,6))\n",
    "for i in range(10):\n",
    "    times, populations = BirthAnnihilation.simulate(initial_state, t_max)\n",
    "    ax.plot(times, populations, color='blue', alpha=0.5, label='Sample '+str(i+1))\n",
    "time = np.linspace(0, 10, 1000)\n",
    "mu = coeff[1]\n",
    "lambd = coeff[0]\n",
    "exp = 10000*np.exp((mu-lambd)*time)\n",
    "ax.plot(time, exp, color='red', linewidth=1.5, label='Average behaviour')\n",
    "ax.set_xlabel('Time', fontsize=13)\n",
    "ax.set_ylabel('Population', fontsize=13)\n",
    "ax.set_title(title, fontsize=18)\n",
    "ax.legend()\n",
    "ax.grid()\n",
    "fig.savefig('Plots/BirthAnnihilation_samples_10000.png', dpi=250)"
   ]
  },
  {
   "cell_type": "code",
   "execution_count": null,
   "id": "3b60c194-bd20-4e11-a961-6fc7f075ee3b",
   "metadata": {},
   "outputs": [],
   "source": [
    "# annihilation times\n",
    "\n",
    "annihilation_times = []\n",
    "for i in range(1000):\n",
    "    times, populations = BirthAnnihilation.simulate(initial_state, 20)\n",
    "    k = 0\n",
    "    while populations[k] != [0]:\n",
    "        k += 1\n",
    "    annihilation_times.append(times[k])"
   ]
  },
  {
   "cell_type": "code",
   "execution_count": null,
   "id": "95fa2240-d710-44d7-8d5a-6e29a749dc0c",
   "metadata": {},
   "outputs": [],
   "source": [
    "plt.hist(annihilation_times, density=True, label='Annihilation Time')\n",
    "plt.xlabel('Annihilation Time', fontsize=13)\n",
    "plt.ylabel('Normalized counts', fontsize=13)\n",
    "plt.title('Histogram of Annihilation Times', fontsize=18)\n",
    "plt.legend()\n",
    "plt.savefig('Plots/ex14_histogram', dpi=300)"
   ]
  },
  {
   "cell_type": "code",
   "execution_count": null,
   "id": "ce16dca9-14ba-40e7-96e5-7c53d27061e0",
   "metadata": {},
   "outputs": [],
   "source": []
  }
 ],
 "metadata": {
  "kernelspec": {
   "display_name": "Python 3 (ipykernel)",
   "language": "python",
   "name": "python3"
  },
  "language_info": {
   "codemirror_mode": {
    "name": "ipython",
    "version": 3
   },
   "file_extension": ".py",
   "mimetype": "text/x-python",
   "name": "python",
   "nbconvert_exporter": "python",
   "pygments_lexer": "ipython3",
   "version": "3.8.16"
  }
 },
 "nbformat": 4,
 "nbformat_minor": 5
}
