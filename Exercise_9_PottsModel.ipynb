{
 "cells": [
  {
   "cell_type": "code",
   "execution_count": 1,
   "id": "765bee97-b30d-4be6-bd2e-3c200cc2c303",
   "metadata": {},
   "outputs": [
    {
     "name": "stderr",
     "output_type": "stream",
     "text": [
      "/Users/bertdepoorter/Nextcloud/Documents/School/Universiteit/Monte Carlo Methods/PottsModel.py:116: SyntaxWarning: list indices must be integers or slices, not tuple; perhaps you missed a comma?\n",
      "  [i, int((j+1+N)%N)]       # right neighbour\n"
     ]
    }
   ],
   "source": [
    "from PottsModel import PottsModel\n",
    "\n",
    "import numpy as np\n",
    "import matplotlib.pyplot as plt"
   ]
  },
  {
   "cell_type": "code",
   "execution_count": null,
   "id": "2e4cb16c-4799-4042-a457-58e9f87f7f61",
   "metadata": {},
   "outputs": [],
   "source": []
  }
 ],
 "metadata": {
  "kernelspec": {
   "display_name": "Python 3 (ipykernel)",
   "language": "python",
   "name": "python3"
  },
  "language_info": {
   "codemirror_mode": {
    "name": "ipython",
    "version": 3
   },
   "file_extension": ".py",
   "mimetype": "text/x-python",
   "name": "python",
   "nbconvert_exporter": "python",
   "pygments_lexer": "ipython3",
   "version": "3.8.20"
  }
 },
 "nbformat": 4,
 "nbformat_minor": 5
}
