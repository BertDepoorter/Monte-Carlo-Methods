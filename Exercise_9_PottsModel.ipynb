{
 "cells": [
  {
   "cell_type": "markdown",
   "id": "7c16d7a4-751c-4362-88bc-274e357efb02",
   "metadata": {},
   "source": [
    "# Potts Model"
   ]
  },
  {
   "cell_type": "code",
   "execution_count": 1,
   "id": "765bee97-b30d-4be6-bd2e-3c200cc2c303",
   "metadata": {},
   "outputs": [
    {
     "name": "stderr",
     "output_type": "stream",
     "text": [
      "/Users/bertdepoorter/Nextcloud/Documents/School/Universiteit/Monte Carlo Methods/PottsModel.py:120: SyntaxWarning: list indices must be integers or slices, not tuple; perhaps you missed a comma?\n",
      "  [i, int((j+1+N)%N)]       # right neighbour\n"
     ]
    }
   ],
   "source": [
    "from PottsModel import PottsModel\n",
    "\n",
    "import numpy as np\n",
    "import matplotlib.pyplot as plt"
   ]
  },
  {
   "cell_type": "markdown",
   "id": "6fd75a44-a52f-4d57-b03f-f12eb7098167",
   "metadata": {},
   "source": [
    "## Functionality\n",
    "The Potts Model class has the following functions available:\n",
    "- initialize spins: create a lattice with spins randomly assigned\n",
    "- calculate_energy: calculate the energy of a given spin configuration\n",
    "- get_neighbours: get the indices of the neighbouring entries under specific boundary conditions\n",
    "- sample_spin_configurations: sample a given number of spin configurations for a specified sampling method\n",
    "  (Options are 'heat bath' and 'metropolis')\n",
    "- get_magnetization: calculate total magnetization for a given spin configuration\n",
    "- plot_magnetization: create plot similar to figure 3 in lecture notes for a specified number of chains.\n"
   ]
  },
  {
   "cell_type": "code",
   "execution_count": 2,
   "id": "298b8dd6-1066-4c45-9725-d057e80ff36e",
   "metadata": {},
   "outputs": [],
   "source": [
    "# specify parameters\n",
    "N = 10\n",
    "num_samples = 70000"
   ]
  },
  {
   "cell_type": "code",
   "execution_count": 3,
   "id": "874c7b35-d708-468c-922c-eaaef115baa0",
   "metadata": {},
   "outputs": [],
   "source": [
    "# initialize model with het bath sampling\n",
    "model_heat_bath = PottsModel(\n",
    "    N,\n",
    "    10, \n",
    "    sampling_method='heat bath'\n",
    ")"
   ]
  },
  {
   "cell_type": "code",
   "execution_count": 4,
   "id": "ee457d3b-cee1-465d-91f7-62f7839367b2",
   "metadata": {},
   "outputs": [],
   "source": [
    "# run sampling\n",
    "chain_heat_bath = model_heat_bath.sample_spin_configurations(num_samples)"
   ]
  },
  {
   "cell_type": "code",
   "execution_count": 5,
   "id": "e8daffe4-6f36-41b5-9c98-513e47b83ffd",
   "metadata": {},
   "outputs": [],
   "source": [
    "# Initialize model with metropolis smapling\n",
    "model_metropolis = PottsModel(\n",
    "    N, \n",
    "    10,\n",
    "    sampling_method='metropolis'\n",
    ")"
   ]
  },
  {
   "cell_type": "code",
   "execution_count": null,
   "id": "d5138ceb-ae0d-4bcb-bbca-17224989812b",
   "metadata": {},
   "outputs": [],
   "source": [
    "# run sampling\n",
    "chain_metropolis=model_metropolis.sample_spin_configurations(num_samples)"
   ]
  },
  {
   "cell_type": "code",
   "execution_count": null,
   "id": "11e5fd1e-454b-4d00-bbd1-b4d35cb9aa8f",
   "metadata": {},
   "outputs": [],
   "source": [
    "# Make plot of both sampling methods\n",
    "\n",
    "# create array of chains\n",
    "spin_samples = np.asarray([chain_heat_bath, chain_metropolis])\n",
    "\n",
    "# Create plot\n",
    "model_metropolis.plot_magnetizations(\n",
    "    num_samples, \n",
    "    chains=2, \n",
    "    spin_samples=spin_samples, \n",
    "    chain_labels=['Heat bath sampling', 'Metropolis sampling']\n",
    ")"
   ]
  },
  {
   "cell_type": "code",
   "execution_count": null,
   "id": "c8c2ac45-8e8a-4ef4-8c85-a1049a534a1a",
   "metadata": {},
   "outputs": [],
   "source": [
    "M_metropolis = model_metropolis.magnetization_chain(chain_metropolis)\n",
    "M_avg_metropolis = np.sum(M_metropolis)/len(M_metropolis)\n",
    "print(M_avg_metropolis)"
   ]
  },
  {
   "cell_type": "code",
   "execution_count": null,
   "id": "fa156c63-c645-4361-acb2-3799b2a653b4",
   "metadata": {},
   "outputs": [],
   "source": [
    "M_heat_bath = model_heat_bath.magnetization_chain(chain_heat_bath)\n",
    "M_avg_heat_bath = np.sum(M_heat_bath)/len(M_heat_bath)\n",
    "print(M_avg_heat_bath)"
   ]
  },
  {
   "cell_type": "code",
   "execution_count": null,
   "id": "64fc194e-fecd-422e-9e36-bd9cc2695b81",
   "metadata": {},
   "outputs": [],
   "source": []
  }
 ],
 "metadata": {
  "kernelspec": {
   "display_name": "Python 3 (ipykernel)",
   "language": "python",
   "name": "python3"
  },
  "language_info": {
   "codemirror_mode": {
    "name": "ipython",
    "version": 3
   },
   "file_extension": ".py",
   "mimetype": "text/x-python",
   "name": "python",
   "nbconvert_exporter": "python",
   "pygments_lexer": "ipython3",
   "version": "3.8.20"
  }
 },
 "nbformat": 4,
 "nbformat_minor": 5
}
