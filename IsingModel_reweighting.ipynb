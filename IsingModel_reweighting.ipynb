{
 "cells": [
  {
   "cell_type": "code",
   "execution_count": 1,
   "id": "fd8dc210-fd79-481f-a8b1-7968075d3186",
   "metadata": {},
   "outputs": [
    {
     "name": "stderr",
     "output_type": "stream",
     "text": [
      "/Users/bertdepoorter/Nextcloud/Documents/School/Universiteit/Monte Carlo Methods/IsingModel.py:91: SyntaxWarning: list indices must be integers or slices, not tuple; perhaps you missed a comma?\n",
      "  [i, int((j+1+N)%N)]       # right neighbour\n"
     ]
    }
   ],
   "source": [
    "from IsingModel import IsingModel\n",
    "\n",
    "import numpy as np\n",
    "import matplotlib.pyplot as plt\n",
    "import scipy as sp"
   ]
  },
  {
   "cell_type": "code",
   "execution_count": null,
   "id": "8ce527fc-7421-43f5-b3bf-09f7f7492ce6",
   "metadata": {},
   "outputs": [],
   "source": [
    "# create histogram\n",
    "fig, ax = plt.subplots(1,1, figsize=(8,6))\n",
    "N=50\n",
    "model = IsingModel(\n",
    "    N,\n",
    "    J=1,\n",
    "    T=2,\n",
    "    sampling_method='metropolis',\n",
    "    boundary_condition='helical'\n",
    ")\n",
    "\n",
    "model_uniform = IsingModel(\n",
    "    size=N, \n",
    "    J=1, \n",
    "    T=2, \n",
    "    boundary_condition='helical', \n",
    "    sampling_method='uniform'\n",
    ")\n",
    "\n",
    "energies_metropolis = model.sample_energies(1000000)\n",
    "E_bins, E_bin_edges = np.histogram(energies_metropolis[200*N**2], bins=50, density=True)\n",
    "E_bin_center= (E_bin_edges[:-1] + E_bin_edges[1:]) / 2\n",
    "ax.plot(E_bin_center, E_bins, color='black', label='Metropolis sampling')\n",
    "\n",
    "energies = model_uniform.sample_energies(1000000)\n",
    "# Compute histogram of P(E) with 50 bins\n",
    "bin_counts, bin_edges = np.histogram(energies, bins=50, density=True)\n",
    "bin_centers = (bin_edges[:-1] + bin_edges[1:]) / 2  # Bin centers for plotting\n",
    "\n",
    "# Define temperatures\n",
    "temperatures = [10E5, 10E2, 10, 2]\n",
    "\n",
    "# Plot P(E) for each temperature\n",
    "for T in temperatures:\n",
    "    # Reweight the histogram: P_T(E) = exp(-E/T) * P(E)\n",
    "    P_T = np.exp(-bin_centers / T) * bin_counts\n",
    "    P_T /= np.sum(P_T * np.diff(bin_edges))  # Normalize\n",
    "\n",
    "    ax.plot(bin_centers, P_T, label=f\"T = {int(T)}\")\n",
    "\n",
    "# Original uniform sampling histogram\n",
    "ax.hist(energies, bins=50, density=True, alpha=0.3, label=\"Uniform Sampling P(E)\")\n",
    "\n",
    "# Add labels and legend\n",
    "ax.set_xlabel(\"Energy (E)\", fontsize=13)\n",
    "ax.set_ylabel(r\"Reweighted $P_T(E)$\", fontsize=13)\n",
    "ax.set_title(\"Reweighted Energy Histograms for Different Temperatures\")\n",
    "ax.legend()\n",
    "fig.savefig('Plots/ex8_reweighting.png', dpi=300)\n",
    "plt.show()"
   ]
  },
  {
   "cell_type": "code",
   "execution_count": null,
   "id": "1557230a-67c0-44a3-ae1f-a1fef1e3cb65",
   "metadata": {},
   "outputs": [],
   "source": [
    "# autocorrelation\n",
    "\n"
   ]
  }
 ],
 "metadata": {
  "kernelspec": {
   "display_name": "Python 3 (ipykernel)",
   "language": "python",
   "name": "python3"
  },
  "language_info": {
   "codemirror_mode": {
    "name": "ipython",
    "version": 3
   },
   "file_extension": ".py",
   "mimetype": "text/x-python",
   "name": "python",
   "nbconvert_exporter": "python",
   "pygments_lexer": "ipython3",
   "version": "3.8.20"
  }
 },
 "nbformat": 4,
 "nbformat_minor": 5
}
