{
 "cells": [
  {
   "cell_type": "markdown",
   "id": "0c1c4da5-2d6e-4ebd-8cfe-b340e8959802",
   "metadata": {},
   "source": [
    "# Exercises 5-8\n",
    "\n",
    "Exercises on stochastic matrices, detailed balance and the Ising model. These are more involved than the previous 4 exercises."
   ]
  },
  {
   "cell_type": "code",
   "execution_count": 1,
   "id": "7335b37a-5dca-4c58-ba49-9880774ec8ec",
   "metadata": {},
   "outputs": [],
   "source": [
    "import numpy as np\n",
    "import matplotlib.pyplot as plt\n",
    "import pandas as pd"
   ]
  },
  {
   "cell_type": "markdown",
   "id": "b502182c-db5a-40ac-a6ea-57aeb764d121",
   "metadata": {},
   "source": [
    "## Exercise 5: Stochastic matrices\n",
    "A $N\\times N$ matrix is called stochastic if \n",
    "a) all elements are non-negative: $\\forall i, j \\in {1,..., N}: P_{ij}\\geq 0$ and \n",
    "b) the sum of all columns is equal to 1: $\\forall i\\in {1,..., N}: \\sum_{i=1}^{N}P_{ij} = 1$.\n",
    "\n",
    "Given a system with N states, the stochastic matrix generates the dynamics of the system. The element $P_{ij}$ is the transition rate that the system does in a time interval $\\Delta t$ from the state $j$ to the state $i$. One also uses the notation $P_{ij} = p(j \\to i)$.\n",
    "\n",
    "Therefore if $w(t)$ is a vector, whose elements $w_i(t)$ are probabilities of finding the system in a state $i$ at time $t$ then at time $t + \\Delta t$, the probabilities are the elements of the vector obtained by multiplication with the matrix $P $:\n",
    "$$\n",
    "w(t + \\Delta t) = P w(t)\n",
    "$$\n",
    "Note that a state of the system is described by a vector of non-negative entries\n",
    "$w_i \\geq 0$. We will call a non-negative vector a vector whose elements are all non-negative."
   ]
  },
  {
   "cell_type": "code",
   "execution_count": null,
   "id": "6ca2e5e1-0d81-4307-a947-f5cb313186c1",
   "metadata": {},
   "outputs": [],
   "source": []
  },
  {
   "cell_type": "code",
   "execution_count": null,
   "id": "ed69e208-e491-410f-8afe-bc766100236b",
   "metadata": {},
   "outputs": [],
   "source": []
  },
  {
   "cell_type": "markdown",
   "id": "714ff7ed-96cd-4e09-8e37-00ce9d028566",
   "metadata": {
    "jp-MarkdownHeadingCollapsed": true
   },
   "source": [
    "## Exercise 6: detailed balance\n",
    "\n",
    "Exercise made on paper. Will immediately insert the solution in the final report."
   ]
  },
  {
   "cell_type": "markdown",
   "id": "249c77b0-feee-4b94-b1f5-e5562774831b",
   "metadata": {},
   "source": []
  },
  {
   "cell_type": "markdown",
   "id": "03587b96-c044-4f52-ba2f-e5b6bbf76b35",
   "metadata": {},
   "source": [
    "## Exercise 7: Ising model, uniform sampling"
   ]
  },
  {
   "cell_type": "markdown",
   "id": "7e277c73-b819-41e0-8f81-a1a5380c2cce",
   "metadata": {},
   "source": [
    "We use $N\\times N $ square lattice. The total energy for a certain spin configuration is given as \n",
    "$$\n",
    "E(\\{s_k\\}) = -J\\sum_{<ij>}s_i s_j\n",
    "$$\n",
    "where the sum extends over the four nearest neighbour spins. We assume $J>0$, this characterizes the strength of the interaction.\n",
    "We will now construct a simple Monte Carlo algorithm that uniformly samples all configurations of the model, to show that this is very inefficient sampling. "
   ]
  },
  {
   "cell_type": "markdown",
   "id": "73e23723-f129-4515-b867-e1e92197a7db",
   "metadata": {},
   "source": [
    "### Generating lattice configuration & boundary conditions\n",
    "\n",
    "Most used boundary condition: the periodic boundary conditions. With $s(i,j)$ we indicate the spin at lattice site $(i,j)$. With periodic boundary conditions, these are given by \n",
    "- The spin above and below are: $s(\\mod(i\\pm 1+N, N),j)$\n",
    "- The spin right and left are: $s(i, \\mod(j\\pm 1+N, N))$\n",
    "\n",
    "However, computationally simpler boundary conditions: helical boundary conditions. We now label all spins as a vector $s(i)$ and fill up lattice from bottom left to top right as in example 14b. The $N\\times N$ lattice is repeated in all directions, but shifted by one unit vertically. The consequences are \n",
    "- The spin above and below are $s(\\mod(i\\pm N+N^2, N^2))$.\n",
    "- The spin left and right are $s(\\mod(i\\pm 1+N^2, N^2))$."
   ]
  },
  {
   "cell_type": "markdown",
   "id": "f97d7a63-1fcb-4995-ab14-575f6838bd29",
   "metadata": {},
   "source": [
    "### Uniform sampling\n",
    "We follow the next algorithm:\n",
    "- Let $\\omega$ be an empty vector\n",
    "- Generate a random configuration of $N^2$ spins.\n",
    "- Calculate the energy $E$ of the generated configuration, and add to the vector $\\omega$.\n",
    "- Go back to step 2."
   ]
  },
  {
   "cell_type": "code",
   "execution_count": null,
   "id": "5d480b44-be8e-4764-af6f-5e39104e8cc3",
   "metadata": {},
   "outputs": [],
   "source": [
    "# Definition of functions\n",
    "\n",
    "def energy(spin_configuration, J):\n",
    "    '''\n",
    "    Input should be a NxN matrix\n",
    "    '''\n",
    "    E = 0\n",
    "    N = len(spin_configuration[0])\n",
    "    for i in range(N-1):\n",
    "        for j in range(N-1):\n",
    "            E += -J*( spin_configuration[i][j]*spin_configuration[i+1][j]+ spin_configuration[i][j]*spin_configuration[i][j+1])\n",
    "    for j in range(N-1):\n",
    "        E +=-J * spin_configuration[N-1][j]*spin_configuration[N-1][j+1]\n",
    "    for i in range(N-1):\n",
    "        E +=-J * spin_configuration[i][N-1]*spin_configuration[i][N-1]\n",
    "    return E"
   ]
  },
  {
   "cell_type": "code",
   "execution_count": null,
   "id": "bbc9a38c-c9c4-4b21-bf83-2d5a31e3072c",
   "metadata": {},
   "outputs": [],
   "source": [
    "# be careful with running this cell multiple times !\n",
    "N = 10\n",
    "\n",
    "lattice = np.empty((N, N))\n",
    "\n",
    "for i in range(N):\n",
    "    for j in range(N):\n",
    "        spin = np.random.randint(0, 2, 1)\n",
    "        if spin[0] == 0:\n",
    "            lattice[i][j] += -1\n",
    "        else: \n",
    "            lattice[i][j] += spin[0]\n",
    "lattice"
   ]
  },
  {
   "cell_type": "code",
   "execution_count": null,
   "id": "ae4e9ab9-16a5-4362-8b55-7e00fadf07e0",
   "metadata": {
    "scrolled": true
   },
   "outputs": [],
   "source": [
    "J = 1\n",
    "E = energy(lattice, J)\n",
    "print('Energy = ', E)"
   ]
  },
  {
   "cell_type": "code",
   "execution_count": null,
   "id": "b30b5576-01a1-4d83-af51-1ec2bb32cb45",
   "metadata": {},
   "outputs": [],
   "source": [
    "steps = int(1e3)\n",
    "energies = np.zeros(steps)\n",
    "\n"
   ]
  },
  {
   "cell_type": "markdown",
   "id": "5f6f1643-872e-4e25-b40d-8faa9b46f46b",
   "metadata": {},
   "source": [
    "### Function-based approach\n",
    "\n",
    "Here we make use of functions to calculate the Ising model. If I have time I'll create a class with the following functionality:\n",
    "- Can be initialized with some keywords related to boundary conditions, size, sampling method\n",
    "- Has some built-in functions: energy variation, generate random sample, return plots concerning  "
   ]
  },
  {
   "cell_type": "code",
   "execution_count": null,
   "id": "9e9a7d64-a2b4-4b07-a33c-17247e544200",
   "metadata": {},
   "outputs": [],
   "source": [
    "def initialize_ising(N):\n",
    "    \"\"\"\n",
    "    Initialize the NxN lattice with helical boundary conditions.\n",
    "\n",
    "    Parameters:\n",
    "    - N: int\n",
    "        Size of the lattice (N x N).\n",
    "    - seed: int, optional\n",
    "        Random seed for reproducibility.\n",
    "\n",
    "    Returns:\n",
    "    - spins: np.ndarray\n",
    "        1D array of length N^2 representing the spin configuration with values in {-1, 1}.\n",
    "    \"\"\"\n",
    "    \n",
    "    # Create random 1D array of length N^2\n",
    "    spins = np.random.choice([-1, 1], size=N**2)\n",
    "    return spins"
   ]
  },
  {
   "cell_type": "code",
   "execution_count": null,
   "id": "443c375e-3b8e-4250-af5a-b6da93dd85dd",
   "metadata": {},
   "outputs": [],
   "source": [
    "def get_neighbors(i, N, boundary='helical'):\n",
    "    \"\"\"\n",
    "    Get the indices of neighbors for spin `i` in a 1D representation of the NxN Ising lattice\n",
    "    with helical boundary conditions.\n",
    "\n",
    "    Parameters:\n",
    "    - i: int\n",
    "        Index of the current spin (0 <= i < N^2).\n",
    "    - N: int\n",
    "        Size of the lattice (N x N).\n",
    "\n",
    "    Returns:\n",
    "    - neighbors: list of int\n",
    "        Indices of the neighboring spins.\n",
    "    \"\"\"\n",
    "\n",
    "    if boundary == 'helical':\n",
    "        N2 = N**2  # Total number of spins\n",
    "        neighbors = [\n",
    "            (i + 1) % N + (i // N) * N,  # Right neighbor\n",
    "            (i - 1 + N) % N + (i // N) * N,  # Left neighbor\n",
    "            (i + N + N2) % N2,  # Below neighbor\n",
    "            (i - N + N2) % N2,  # Above neighbor\n",
    "        ]\n",
    "        return neighbors\n",
    "    elif boundary == 'periodic':\n",
    "        return None\n",
    "    else: \n",
    "        raise NotImplemented\n",
    "    "
   ]
  },
  {
   "cell_type": "code",
   "execution_count": null,
   "id": "f40e7f25-c6cf-4423-bff1-fc61b31e52c0",
   "metadata": {},
   "outputs": [],
   "source": [
    "def calculate_energy(spins, N, J=1):\n",
    "    \"\"\"\n",
    "    Calculate the energy of the spin configuration in the Ising model with helical boundary conditions.\n",
    "\n",
    "    Parameters:\n",
    "    - spins: np.ndarray\n",
    "        1D array of spins in the lattice.\n",
    "    - N: int\n",
    "        Size of the lattice (N x N).\n",
    "    - J: float, optional\n",
    "        Coupling constant (default is 1 for ferromagnetic interactions)\n",
    "\n",
    "    Returns:\n",
    "    - energy: float\n",
    "        Total energy of the spin configuration.\n",
    "    \"\"\"\n",
    "    energy = 0\n",
    "    for i in range(N**2):\n",
    "        neighbors = get_neighbors(i, N)\n",
    "        energy -= J * spins[i] * sum(spins[j] for j in neighbors)  # nearest neighbour interaction\n",
    "    return energy / 2"
   ]
  },
  {
   "cell_type": "code",
   "execution_count": null,
   "id": "49f098b9-eb50-4bfa-9ec0-652317663e1b",
   "metadata": {},
   "outputs": [],
   "source": [
    "def uniform_sampling_ising(N, num_samples, J=1):\n",
    "    \"\"\"\n",
    "    Perform uniform sampling on the Ising model and compute energies for random configurations.\n",
    "\n",
    "    Parameters:\n",
    "    - N: int\n",
    "        Size of the lattice (N x N).\n",
    "    - num_samples: int\n",
    "        Number of random configurations to sample.\n",
    "    - J: float, optional\n",
    "        Coupling constant (default is 1 for ferromagnetic interactions).\n",
    "\n",
    "    Returns:\n",
    "    - energies: list of float\n",
    "        Energies of the sampled configurations.\n",
    "    \"\"\"\n",
    "\n",
    "    energies = []  # To store energies of configurations\n",
    "    for _ in range(num_samples):\n",
    "        spins = initialize_ising(N)\n",
    "        energy = calculate_energy(spins, N, J)\n",
    "        energies.append(energy)\n",
    "    \n",
    "    return energies"
   ]
  },
  {
   "cell_type": "code",
   "execution_count": null,
   "id": "318f293a-6ed4-41ed-891a-32d8afabefe4",
   "metadata": {},
   "outputs": [],
   "source": [
    "# Run model\n",
    "N = 4  \n",
    "num_samples = 10  # Number of random configurations to generate\n",
    "energies = uniform_sampling_ising(N, num_samples, J=1)\n",
    "\n",
    "print(\"Sampled Energies:\")\n",
    "print(energies)"
   ]
  },
  {
   "cell_type": "markdown",
   "id": "23254aab-0586-40de-b7eb-6ff22414bd60",
   "metadata": {},
   "source": [
    "### Class-based approach"
   ]
  },
  {
   "cell_type": "code",
   "execution_count": null,
   "id": "2eec074a-6d32-4744-aebc-ab73547d61a6",
   "metadata": {},
   "outputs": [],
   "source": [
    "class IsingModel:\n",
    "    '''\n",
    "    This class provides a general framework for working with the Ising model. I will add functionality later for different exercises.\n",
    "\n",
    "    Attributes (so far):\n",
    "    - size (int): The size of the lattice (NxN).\n",
    "    - J (float): Coupling constant.\n",
    "    - h (float): External magnetic field.\n",
    "    - boundary_condition (str): The type of boundary condition (\"helical\" or other future options).\n",
    "    - sampling_method (str): The method of sampling (\"uniform\" for now).\n",
    "    '''\n",
    "\n",
    "    def __init__(self, size, J=1, h=0, boundary_condition=\"helical\", sampling_method=\"uniform\", seed=None):\n",
    "        \"\"\"\n",
    "        Initialize the Ising model.\n",
    "        \n",
    "        Parameters:\n",
    "        - size (int): Size of the lattice (NxN).\n",
    "        - J (float): Coupling constant (default is 1).\n",
    "        - h (float): External magnetic field (default is 0).\n",
    "        - boundary_condition (str): Type of boundary condition (default is \"helical\").\n",
    "        - sampling_method (str): Sampling method (default is \"uniform\").\n",
    "        - seed (int, optional): Random seed for reproducibility.\n",
    "        \"\"\"\n",
    "        self.size = size\n",
    "        self.J = J\n",
    "        self.h = h\n",
    "        self.boundary_condition = boundary_condition\n",
    "        self.sampling_method = sampling_method\n",
    "        self.seed = seed\n",
    "\n",
    "    \n",
    "        "
   ]
  },
  {
   "cell_type": "code",
   "execution_count": 2,
   "id": "e9ccc555-690d-4200-8e0d-69a81882ef6a",
   "metadata": {},
   "outputs": [
    {
     "name": "stdout",
     "output_type": "stream",
     "text": [
      "Sampled Energies:\n"
     ]
    },
    {
     "data": {
      "image/png": "[encoded data removed]",
      "text/plain": [
       "<Figure size 800x600 with 1 Axes>"
      ]
     },
     "metadata": {},
     "output_type": "display_data"
    },
    {
     "data": {
      "image/png": "[encoded data removed]",
      "text/plain": [
       "<Figure size 800x600 with 1 Axes>"
      ]
     },
     "metadata": {},
     "output_type": "display_data"
    }
   ],
   "source": [
    "import numpy as np\n",
    "\n",
    "class IsingModel:\n",
    "    \"\"\"\n",
    "    A class to represent the Ising model with customizable parameters.\n",
    "    \n",
    "    Attributes:\n",
    "    - size (int): The size of the lattice (NxN).\n",
    "    - J (float): Coupling constant.\n",
    "    - h (float): External magnetic field.\n",
    "    - boundary_condition (str): The type of boundary condition (\"helical\" or other future options).\n",
    "    - sampling_method (str): The method of sampling (\"uniform\" for now).\n",
    "    \"\"\"\n",
    "    \n",
    "    def __init__(self, size, J=1, h=0, boundary_condition=\"helical\", sampling_method=\"uniform\", seed=None):\n",
    "        \"\"\"\n",
    "        Initialize the Ising model.\n",
    "        \n",
    "        Parameters:\n",
    "        - size (int): Size of the lattice (NxN).\n",
    "        - J (float): Coupling constant (default is 1).\n",
    "        - h (float): External magnetic field (default is 0).\n",
    "        - boundary_condition (str): Type of boundary condition (default is \"helical\").\n",
    "        - sampling_method (str): Sampling method (default is \"uniform\").\n",
    "        - seed (int, optional): Random seed for reproducibility.\n",
    "        \"\"\"\n",
    "        self.size = size\n",
    "        self.J = J\n",
    "        self.h = h\n",
    "        self.boundary_condition = boundary_condition\n",
    "        self.sampling_method = sampling_method\n",
    "        self.seed = seed\n",
    "        \n",
    "        if seed is not None:\n",
    "            np.random.seed(seed)\n",
    "    \n",
    "    def _initialize_spins(self):\n",
    "        \"\"\"\n",
    "        Initialize a random spin configuration.\n",
    "        \n",
    "        Returns:\n",
    "        - spins (np.ndarray): 1D array of spins in {-1, 1}.\n",
    "        \"\"\"\n",
    "        return np.random.choice([-1, 1], size=self.size**2)\n",
    "    \n",
    "    def _get_neighbors(self, i):\n",
    "        \"\"\"\n",
    "        Get the neighbors of a spin at index i using helical boundary conditions.\n",
    "        \n",
    "        Parameters:\n",
    "        - i (int): Index of the spin.\n",
    "        \n",
    "        Returns:\n",
    "        - neighbors (list of int): Indices of neighboring spins.\n",
    "        \"\"\"\n",
    "        N = self.size\n",
    "        N2 = N**2\n",
    "        neighbors = [\n",
    "            (i + 1) % N + (i // N) * N,  # Right neighbor\n",
    "            (i - 1 + N) % N + (i // N) * N,  # Left neighbor\n",
    "            (i + N + N2) % N2,  # Below neighbor\n",
    "            (i - N + N2) % N2,  # Above neighbor\n",
    "        ]\n",
    "        return neighbors\n",
    "    \n",
    "    def _calculate_energy(self, spins):\n",
    "        \"\"\"\n",
    "        Calculate the energy of a spin configuration.\n",
    "        \n",
    "        Parameters:\n",
    "        - spins (np.ndarray): 1D array of spins.\n",
    "        \n",
    "        Returns:\n",
    "        - energy (float): Total energy of the configuration.\n",
    "        \"\"\"\n",
    "        N = self.size\n",
    "        energy = 0\n",
    "        for i in range(N**2):\n",
    "            neighbors = self._get_neighbors(i)\n",
    "            energy -= self.J * spins[i] * sum(spins[j] for j in neighbors)  # Interaction term\n",
    "            energy -= self.h * spins[i]  # Magnetic field term\n",
    "        return energy / 2  # Divide by 2 to correct for double counting\n",
    "    \n",
    "    def sample_energies(self, num_samples):\n",
    "        \"\"\"\n",
    "        Sample energies of random configurations.\n",
    "        \n",
    "        Parameters:\n",
    "        - num_samples (int): Number of random configurations to sample.\n",
    "        \n",
    "        Returns:\n",
    "        - energies (list of float): Energies of the sampled configurations.\n",
    "        \"\"\"\n",
    "        if self.sampling_method != \"uniform\":\n",
    "            raise NotImplementedError(f\"Sampling method '{self.sampling_method}' is not implemented.\")\n",
    "        \n",
    "        energies = []\n",
    "        for _ in range(num_samples):\n",
    "            spins = self._initialize_spins()\n",
    "            energy = self._calculate_energy(spins)\n",
    "            energies.append(energy)\n",
    "        return energies\n",
    "\n",
    "    def energy_normalized(self, energies):\n",
    "        '''\n",
    "        Convert array of energies to energy per bond: e = E/2N^2\n",
    "\n",
    "        Parameters: \n",
    "        - array of energies\n",
    "\n",
    "        Returns:\n",
    "        - array with energy per bond\n",
    "        '''\n",
    "        return energies/(2*self.size**2)\n",
    "\n",
    "    def visualize_energy(self, energies):\n",
    "        '''\n",
    "        Functionality to plot the variation of the sampled energies\n",
    "\n",
    "        Parameters: \n",
    "        - energies: array containing all the different sampled energies\n",
    "\n",
    "        returns: \n",
    "        - visualization of the energy fluctuations under random sampling\n",
    "        '''\n",
    "        fig, ax = plt.subplots(1,1, figsize=(8,6))\n",
    "        samples = np.linspace(0, len(energies), len(energies))\n",
    "        ax.set_xlabel('Samples', fontsize=14)\n",
    "        ax.set_ylabel('Energy [ J ]', fontsize=14)\n",
    "        title = 'Energy for samples, J = '+str(self.J)\n",
    "        ax.plot(samples, energies, color='blue', alpha=0.7, label='samples')\n",
    "        ax.legend()\n",
    "        plt.axhline(0, color='gray', linestyle='dashed')\n",
    "        ax.set_title(title, fontsize=17)\n",
    "        plt.tight_layout()\n",
    "        plt.show()\n",
    "\n",
    "    def make_histogram(self, energies, bins=25, normalize=False):\n",
    "        fig, ax = plt.subplots(1,1, figsize=(8,6))\n",
    "        title= 'Histogram of sampled energy, J = '+str(self.J)\n",
    "        ax.hist(energies, bins=bins)\n",
    "        if normalize:\n",
    "            return NotImplementedError\n",
    "            ax.setylabel('Normalized counts', fontsize=14)\n",
    "        ax.set_xlabel('Sampled energy [ J ]')\n",
    "        ax.set_ylabel('Counts', fontsize=14)\n",
    "        ax.set_title(title, fontsize=17)\n",
    "\n",
    "\n",
    "# Example usage\n",
    "if __name__ == \"__main__\":\n",
    "    # Initialize the Ising model\n",
    "    model = IsingModel(size=20, J=0.5, h=0, boundary_condition=\"helical\", sampling_method=\"uniform\", seed=42)\n",
    "    \n",
    "    # Sample energies\n",
    "    num_samples = 10000\n",
    "    energies = model.sample_energies(num_samples)\n",
    "    \n",
    "    print(\"Sampled Energies:\")\n",
    "    # print(energies)\n",
    "    model.visualize_energy(energies)\n",
    "    model.make_histogram(energies, bins=50)\n"
   ]
  },
  {
   "cell_type": "markdown",
   "id": "7ac017ad-8abd-4778-9bb6-a79cf993c7fa",
   "metadata": {},
   "source": [
    "This plot should look like white noise. Normally this should be the case, if the random sampling is done correctly. We can check this by plotting the histogram of the sampled energies, normalizing these and plotting against the gaussian distribution."
   ]
  },
  {
   "cell_type": "code",
   "execution_count": null,
   "id": "c2742cc8-caf2-4954-9e81-e5af3b306f42",
   "metadata": {},
   "outputs": [],
   "source": [
    "def make_histogram(self, energies, bins=25, normalize=False):\n",
    "    fig, ax = plt.subplots(1,1, figsize=(8,6))\n",
    "    title= 'Histogram of sampled energy, J = '+str(self.J)\n",
    "    ax.hist(energies, bins=bins)\n",
    "    if normalize:\n",
    "        return NotImplementedError\n",
    "    ax.set_xlabel('Sampled energy [ J ]')"
   ]
  },
  {
   "cell_type": "code",
   "execution_count": null,
   "id": "0beb6d02-20f5-43e4-b718-82d4511ab279",
   "metadata": {},
   "outputs": [],
   "source": []
  },
  {
   "cell_type": "code",
   "execution_count": null,
   "id": "807d2b72-a3f3-4fc4-8136-7ba395e07298",
   "metadata": {},
   "outputs": [],
   "source": [
    "array1 = np.asarray([1,2,3])\n",
    "array2 = np.asarray([4,5,6])\n",
    "array3 = np.asarray([7,8,9])\n",
    "\n",
    "array1 = np.vstack([array1, array2])\n",
    "array1 = np.vstack([array1, array3])\n",
    "print(array1)"
   ]
  },
  {
   "cell_type": "code",
   "execution_count": null,
   "id": "b3345979-c107-4dac-a6a4-9e2ed7a7bdc9",
   "metadata": {},
   "outputs": [],
   "source": []
  }
 ],
 "metadata": {
  "kernelspec": {
   "display_name": "Python 3 (ipykernel)",
   "language": "python",
   "name": "python3"
  },
  "language_info": {
   "codemirror_mode": {
    "name": "ipython",
    "version": 3
   },
   "file_extension": ".py",
   "mimetype": "text/x-python",
   "name": "python",
   "nbconvert_exporter": "python",
   "pygments_lexer": "ipython3",
   "version": "3.8.20"
  }
 },
 "nbformat": 4,
 "nbformat_minor": 5
}
