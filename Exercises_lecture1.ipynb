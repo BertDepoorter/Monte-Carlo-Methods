{
 "cells": [
  {
   "cell_type": "markdown",
   "id": "819b7e90-bce8-401f-9cd3-ac4379f3bb73",
   "metadata": {},
   "source": [
    "# Monte Carlo methods lecture 1\n",
    "\n",
    "## Exercises\n",
    "In this notebook I will experiment with the various examples given in class and in the lecture notes, as well as the related problems for the exam. Later I will create a separate notebook with nice code to provide good simulations of the problems for the final report that serves as the exam."
   ]
  },
  {
   "cell_type": "code",
   "execution_count": 1,
   "id": "b0dde200-40d6-4fe7-a9cc-12ff82855f8f",
   "metadata": {},
   "outputs": [],
   "source": [
    "import numpy as np\n",
    "import matplotlib.pyplot as plt"
   ]
  },
  {
   "cell_type": "code",
   "execution_count": 2,
   "id": "33e8aa69-6d66-4b3a-beb3-1295aa470e2f",
   "metadata": {},
   "outputs": [],
   "source": [
    "def f(x):\n",
    "    return 2*x # create an example function"
   ]
  },
  {
   "cell_type": "code",
   "execution_count": 3,
   "id": "4d7874ef-2fca-45b4-ae85-3828eb30d7ea",
   "metadata": {},
   "outputs": [],
   "source": [
    "#define integration bounds\n",
    "a = 0\n",
    "b = 3"
   ]
  },
  {
   "cell_type": "code",
   "execution_count": 6,
   "id": "7a1066fa-28bd-403f-979b-0e51eb2cd8d1",
   "metadata": {},
   "outputs": [],
   "source": [
    "# number of random samples\n",
    "n_sam = int(1E6)"
   ]
  },
  {
   "cell_type": "code",
   "execution_count": 15,
   "id": "fa10a825-d2b6-4f5b-a79b-343115caf24e",
   "metadata": {},
   "outputs": [],
   "source": [
    "# Generate random points\n",
    "random_points = np.random.uniform(a, b, n_sam)\n",
    "\n",
    "# Evaluate function at those points\n",
    "func_random = f(random_points)"
   ]
  },
  {
   "cell_type": "code",
   "execution_count": 16,
   "id": "c94dff4f-354b-48e9-ba64-6958f088ac28",
   "metadata": {},
   "outputs": [
    {
     "name": "stdout",
     "output_type": "stream",
     "text": [
      "Monte Carlo integral estimate: 8999691.625513\n"
     ]
    }
   ],
   "source": [
    "# Integral estimate\n",
    "\n",
    "int_est = (b-a)*np.sum(func_random)\n",
    "print(f\"Monte Carlo integral estimate: {round(int_est,6)}\")"
   ]
  },
  {
   "cell_type": "code",
   "execution_count": 17,
   "id": "e4210e93-ab58-44c4-8d0d-2c0a14b5baf6",
   "metadata": {},
   "outputs": [
    {
     "data": {
      "image/png": "[encoded data removed]",
      "text/plain": [
       "<Figure size 640x480 with 1 Axes>"
      ]
     },
     "metadata": {},
     "output_type": "display_data"
    }
   ],
   "source": [
    "# Plot histogram \n",
    "plt.hist(random_points, 20)\n",
    "plt.show()"
   ]
  },
  {
   "cell_type": "markdown",
   "id": "74b5f8d5-b716-4094-87d7-e024ab88b636",
   "metadata": {},
   "source": []
  },
  {
   "cell_type": "code",
   "execution_count": null,
   "id": "4f8a8d82-c4ec-4079-a406-b2efacdc27d2",
   "metadata": {},
   "outputs": [],
   "source": []
  }
 ],
 "metadata": {
  "kernelspec": {
   "display_name": "Python 3 (ipykernel)",
   "language": "python",
   "name": "python3"
  },
  "language_info": {
   "codemirror_mode": {
    "name": "ipython",
    "version": 3
   },
   "file_extension": ".py",
   "mimetype": "text/x-python",
   "name": "python",
   "nbconvert_exporter": "python",
   "pygments_lexer": "ipython3",
   "version": "3.8.19"
  }
 },
 "nbformat": 4,
 "nbformat_minor": 5
}
