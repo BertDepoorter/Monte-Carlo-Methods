{
 "cells": [
  {
   "cell_type": "code",
   "execution_count": null,
   "id": "36704436-cc50-4fc4-a343-84b0f8de556b",
   "metadata": {},
   "outputs": [
    {
     "name": "stderr",
     "output_type": "stream",
     "text": [
      "/Users/bertdepoorter/Nextcloud/Documents/School/Universiteit/Monte Carlo Methods/IsingModel.py:83: SyntaxWarning: list indices must be integers or slices, not tuple; perhaps you missed a comma?\n",
      "  [i, int((j+1+N)%N)]       # right neighbour\n"
     ]
    }
   ],
   "source": [
    "# Import code\n",
    "from IsingModel import IsingModel"
   ]
  },
  {
   "cell_type": "markdown",
   "id": "9bf1415a-62ee-4dd1-9926-78c0f17a30ee",
   "metadata": {},
   "source": [
    "## Functionality\n",
    "IsingModel has the following functions available:\n",
    "- sample_energies: samples the energies for a given number of samples\n",
    "- sample_spin_configurations: sample certain number of spin configurations with certain MC algorithm\n",
    "- calculate_energy: calculate the energy of a given spin configuration\n",
    "- visualize_energy: plot the sampled energy for a number of MC steps\n",
    "- make_histogram: create a histogram that plots the distribution of the sampled energies / magnetizations\n",
    "- get_magnetization: returns magnetization of a certain spin configuration\n",
    "- get_exact_magnetization: returns exact magnetization for the initialized model\n",
    "- plot_magnetization: returns plot like figure 3 in lecture notes, for a given number of sweeps"
   ]
  },
  {
   "cell_type": "markdown",
   "id": "0b457930-0866-41cf-b203-7bf388bdf9c0",
   "metadata": {
    "jp-MarkdownHeadingCollapsed": true
   },
   "source": [
    "### uniform sampling"
   ]
  },
  {
   "cell_type": "code",
   "execution_count": null,
   "id": "977bc366-e093-421c-97f9-62776d49b1d2",
   "metadata": {},
   "outputs": [],
   "source": [
    "N = 10\n",
    "model = IsingModel(\n",
    "    size=N, \n",
    "    J=1, \n",
    "    T=4, \n",
    "    boundary_condition='helical', \n",
    "    sampling_method='uniform'\n",
    ")"
   ]
  },
  {
   "cell_type": "code",
   "execution_count": null,
   "id": "40a35a49-dbea-404b-9800-641ab20a0a44",
   "metadata": {},
   "outputs": [],
   "source": [
    "num_samples = 10000\n",
    "\n",
    "energies = model.sample_energies(num_samples)\n",
    "model.visualize_energy(energies)"
   ]
  },
  {
   "cell_type": "code",
   "execution_count": null,
   "id": "80582198-fdf9-441d-84fc-9b4be1b229ec",
   "metadata": {},
   "outputs": [],
   "source": [
    "model.make_histogram(energies, normalize=True)"
   ]
  },
  {
   "cell_type": "markdown",
   "id": "b8f1b5dd-2d0f-44f5-97f7-2dbcaf9f6ad2",
   "metadata": {},
   "source": [
    "### Metropolis sampling"
   ]
  },
  {
   "cell_type": "code",
   "execution_count": null,
   "id": "0578c15b-37f1-40e4-aba4-3fed216f0605",
   "metadata": {},
   "outputs": [],
   "source": [
    "# initialize metropolis model\n",
    "N = 10\n",
    "model_metropolis = IsingModel(\n",
    "    N,\n",
    "    J=1,\n",
    "    T=2,\n",
    "    sampling_method='metropolis',\n",
    "    boundary_condition='helical'\n",
    ")"
   ]
  },
  {
   "cell_type": "code",
   "execution_count": null,
   "id": "8c488e25-dc92-4844-a67e-72b68fceb0f4",
   "metadata": {},
   "outputs": [],
   "source": [
    "num_samples = 10000\n",
    "energies = model_metropolis.sample_energies(num_samples)"
   ]
  },
  {
   "cell_type": "code",
   "execution_count": null,
   "id": "15a98006-e2d5-48a6-aa1f-e09e278b67c5",
   "metadata": {},
   "outputs": [],
   "source": [
    "model_metropolis.visualize_energy(energies)"
   ]
  },
  {
   "cell_type": "code",
   "execution_count": null,
   "id": "233b127a-6bd5-4a85-a2b0-3e4f2f5d394c",
   "metadata": {},
   "outputs": [],
   "source": [
    "model_metropolis.make_histogram(energies, normalize=True)"
   ]
  },
  {
   "cell_type": "code",
   "execution_count": null,
   "id": "18227b65-01d2-4435-a30a-e8f1cbf27352",
   "metadata": {},
   "outputs": [],
   "source": [
    "sweeps = 100\n",
    "chains = 2\n",
    "model_metropolis.plot_magnetization(sweeps, chains=chains)"
   ]
  },
  {
   "cell_type": "code",
   "execution_count": null,
   "id": "acbf5d86-e550-4ccb-9909-b7386e8ab4ba",
   "metadata": {},
   "outputs": [],
   "source": [
    "import numpy as np\n",
    "J=1\n",
    "T=1\n",
    "M = (1-np.sinh(2*J/T)**(-4))**(1/8)\n",
    "print(M)"
   ]
  },
  {
   "cell_type": "code",
   "execution_count": null,
   "id": "0ac67b1d-4935-472b-8d50-07d449faabb4",
   "metadata": {},
   "outputs": [],
   "source": [
    "spin_samples = model_metropolis.sample_spin_configurations(10000)\n",
    "model_metropolis.plot_magnetization(len(spin_samples/N**2), spins=spin_samples)"
   ]
  },
  {
   "cell_type": "code",
   "execution_count": null,
   "id": "a0ba4fc3-11c3-4474-9dcb-767efcc07ca1",
   "metadata": {},
   "outputs": [],
   "source": []
  }
 ],
 "metadata": {
  "kernelspec": {
   "display_name": "Python 3 (ipykernel)",
   "language": "python",
   "name": "python3"
  },
  "language_info": {
   "codemirror_mode": {
    "name": "ipython",
    "version": 3
   },
   "file_extension": ".py",
   "mimetype": "text/x-python",
   "name": "python",
   "nbconvert_exporter": "python",
   "pygments_lexer": "ipython3",
   "version": "3.8.20"
  }
 },
 "nbformat": 4,
 "nbformat_minor": 5
}
