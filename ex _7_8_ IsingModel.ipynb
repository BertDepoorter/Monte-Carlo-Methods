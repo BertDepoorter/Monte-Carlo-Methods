{
 "cells": [
  {
   "cell_type": "code",
   "execution_count": 1,
   "id": "36704436-cc50-4fc4-a343-84b0f8de556b",
   "metadata": {
    "scrolled": true
   },
   "outputs": [
    {
     "name": "stderr",
     "output_type": "stream",
     "text": [
      "/Users/bertdepoorter/Nextcloud/Documents/School/Universiteit/Monte Carlo Methods/IsingModel.py:91: SyntaxWarning: list indices must be integers or slices, not tuple; perhaps you missed a comma?\n",
      "  [i, int((j+1+N)%N)]       # right neighbour\n"
     ]
    }
   ],
   "source": [
    "# Import code\n",
    "from IsingModel import IsingModel\n",
    "\n",
    "import numpy as np\n",
    "import matplotlib.pyplot as plt\n",
    "import scipy as sp"
   ]
  },
  {
   "cell_type": "markdown",
   "id": "9bf1415a-62ee-4dd1-9926-78c0f17a30ee",
   "metadata": {},
   "source": [
    "## Functionality\n",
    "IsingModel has the following functions available:\n",
    "- sample_energies: samples the energies for a given number of samples\n",
    "- sample_spin_configurations: sample certain number of spin configurations with certain MC algorithm\n",
    "- calculate_energy: calculate the energy of a given spin configuration\n",
    "- visualize_energy: plot the sampled energy for a number of MC steps\n",
    "- make_histogram: create a histogram that plots the distribution of the sampled energies / magnetizations\n",
    "- get_magnetization: returns magnetization of a certain spin configuration\n",
    "- get_exact_magnetization: returns exact magnetization for the initialized model\n",
    "- plot_magnetization: returns plot like figure 3 in lecture notes, for a given number of sweeps"
   ]
  },
  {
   "cell_type": "markdown",
   "id": "0b457930-0866-41cf-b203-7bf388bdf9c0",
   "metadata": {
    "jp-MarkdownHeadingCollapsed": true
   },
   "source": [
    "### Uniform sampling"
   ]
  },
  {
   "cell_type": "code",
   "execution_count": null,
   "id": "977bc366-e093-421c-97f9-62776d49b1d2",
   "metadata": {},
   "outputs": [],
   "source": [
    "N = 10\n",
    "model = IsingModel(\n",
    "    size=N, \n",
    "    J=1, \n",
    "    T=4, \n",
    "    boundary_condition='helical', \n",
    "    sampling_method='uniform'\n",
    ")"
   ]
  },
  {
   "cell_type": "code",
   "execution_count": null,
   "id": "40a35a49-dbea-404b-9800-641ab20a0a44",
   "metadata": {},
   "outputs": [],
   "source": [
    "num_samples = 10000\n",
    "\n",
    "energies = model.sample_energies(num_samples)\n",
    "\n",
    "# get energies per bond\n",
    "E_bond = np.asarray(energies)/(2*N**2)"
   ]
  },
  {
   "cell_type": "code",
   "execution_count": null,
   "id": "22812db7-9838-4de1-896c-88162fea113c",
   "metadata": {},
   "outputs": [],
   "source": [
    "fig, ax = plt.subplots(1,1, figsize=(8,6))\n",
    "samples = np.linspace(0, len(energies), len(energies))\n",
    "ax.set_xlabel('Samples', fontsize=14)\n",
    "ax.set_ylabel('Energy [ J ]', fontsize=14)\n",
    "title = 'Energy per bond'\n",
    "ax.plot(samples, E_bond, color='blue', alpha=0.7, label='samples')\n",
    "\n",
    "plt.axhline(0, color='gray', linestyle='dashed', label=r'Baseline: $e = 0$')\n",
    "ax.legend()\n",
    "ax.set_title(title, fontsize=17)\n",
    "fig.savefig('Plots/ex7_E_bond.png', dpi=300)\n",
    "plt.tight_layout()\n",
    "plt.show()"
   ]
  },
  {
   "cell_type": "code",
   "execution_count": null,
   "id": "80582198-fdf9-441d-84fc-9b4be1b229ec",
   "metadata": {},
   "outputs": [],
   "source": [
    "model.make_histogram(energies, normalize=True)"
   ]
  },
  {
   "cell_type": "code",
   "execution_count": null,
   "id": "78706565-2467-465b-b29b-1dbb6d1b7122",
   "metadata": {},
   "outputs": [],
   "source": [
    "normalize=True\n",
    "fig, ax = plt.subplots(1,1, figsize=(8,6))\n",
    "title= 'Histogram of sampled energy, J = '+str(1)\n",
    "if normalize == False:\n",
    "    ax.hist(energies, bins=bins)\n",
    "    ax.set_ylabel('Counts', fontsize=14)\n",
    "if normalize == True:\n",
    "    # energies_norm = self.energy_normalized(energies)\n",
    "    ax.hist(energies, bins=25, density=True, label='normalized density')\n",
    "    mu = np.sum(energies)/len(energies)\n",
    "    sigma = np.std(energies)\n",
    "    energy_min = np.min(energies)\n",
    "    energy_max = np.max(energies)\n",
    "    energy_array = np.linspace(energy_min, energy_max, 1000)\n",
    "    gaussian = sp.stats.norm.pdf(energy_array, loc=mu, scale=sigma)\n",
    "    ax.plot(energy_array, gaussian, color='red', label='Normal distribution')\n",
    "    ax.legend()\n",
    "    ax.set_ylabel('Normalized counts', fontsize=14)\n",
    "ax.set_xlabel('Sampled energy [ J ]')\n",
    "ax.set_title(title, fontsize=1)\n",
    "fig.savefig('Plots/ex7_hist_sampled')"
   ]
  },
  {
   "cell_type": "code",
   "execution_count": null,
   "id": "6f8df29d-2297-43ca-89d8-36b560109196",
   "metadata": {},
   "outputs": [],
   "source": [
    "# shift energies\n",
    "def shift(energies, T):\n",
    "    bin_counts, bin_edges = np.histogram(energies, bins=50)\n",
    "    bin_centers = (bin_edges[:-1] + bin_edges[1:]) / 2 \n",
    "    \n",
    "    # Reweight the histogram: P_T(E) = exp(-E/T) * P(E)\n",
    "    P_T = np.exp(-bin_centers / T) * bin_counts\n",
    "    P_T /= np.sum(P_T * np.diff(bin_edges))  # Normalize\n",
    "    return P_T"
   ]
  },
  {
   "cell_type": "code",
   "execution_count": null,
   "id": "7976ccac-1e1a-4aa4-b6fb-8441442a098d",
   "metadata": {},
   "outputs": [],
   "source": [
    "temperatures = [10E5, 10E3, 10E2, 100, 10, 2]\n",
    "\n",
    "fig, ax = plt.subplots(1,1, figsize=(8,6))\n",
    "for T in temperatures:\n",
    "    P_T = shift(energies, T)\n",
    "    ax.hist(P_T, bins=25, density=True)"
   ]
  },
  {
   "cell_type": "code",
   "execution_count": null,
   "id": "4429f4a8-7a25-4639-9eaa-db72ffa39764",
   "metadata": {},
   "outputs": [],
   "source": [
    "# Compute histogram of P(E) with 50 bins\n",
    "bin_counts, bin_edges = np.histogram(energies, bins=50, density=True)\n",
    "bin_centers = (bin_edges[:-1] + bin_edges[1:]) / 2  # Bin centers for plotting\n",
    "\n",
    "# Define temperatures\n",
    "temperatures = [10E5, 10E2, 10, 2]\n",
    "\n",
    "# Plot P(E) for each temperature\n",
    "plt.figure(figsize=(10, 6))\n",
    "for T in temperatures:\n",
    "    # Reweight the histogram: P_T(E) = exp(-E/T) * P(E)\n",
    "    P_T = np.exp(-bin_centers / T) * bin_counts\n",
    "    P_T /= np.sum(P_T * np.diff(bin_edges))  # Normalize\n",
    "\n",
    "    plt.plot(bin_centers, P_T, label=f\"T = {int(T)}\")\n",
    "\n",
    "# Original uniform sampling histogram\n",
    "plt.hist(energies, bins=50, density=True, alpha=0.3, label=\"Uniform Sampling P(E)\")\n",
    "\n",
    "# Add labels and legend\n",
    "plt.xlabel(\"Energy (E)\", fontsize=13)\n",
    "plt.ylabel(r\"Reweighted $P_T(E)$\", fontsize=13)\n",
    "plt.title(\"Reweighted Energy Histograms for Different Temperatures\")\n",
    "plt.legend()\n",
    "plt.savefig('Plots/ex7_reweighting.png', dpi=300)\n",
    "plt.show()"
   ]
  },
  {
   "cell_type": "markdown",
   "id": "51ffcb6b-69a8-4924-90b1-59f2316d43b2",
   "metadata": {
    "jp-MarkdownHeadingCollapsed": true
   },
   "source": [
    "### Boltzmann sampling: hit and miss method"
   ]
  },
  {
   "cell_type": "code",
   "execution_count": null,
   "id": "83f5a83a-6ea9-467e-a330-8924a1e88381",
   "metadata": {},
   "outputs": [],
   "source": [
    "# initialize Boltzmann model\n",
    "\n",
    "N=10\n",
    "\n",
    "model_hit_and_miss = IsingModel(\n",
    "    N,\n",
    "    T = 10E5,\n",
    "    boundary_condition = 'helical',\n",
    "    sampling_method = 'hit and miss'\n",
    ")"
   ]
  },
  {
   "cell_type": "code",
   "execution_count": null,
   "id": "2ab5714d-479e-4dc9-98d9-2482d84e9e6f",
   "metadata": {},
   "outputs": [],
   "source": [
    "num_samples = 10000\n",
    "\n",
    "energies = model_hit_and_miss.sample_energies(num_samples)\n",
    "model_hit_and_miss.visualize_energy(energies)"
   ]
  },
  {
   "cell_type": "code",
   "execution_count": null,
   "id": "b4f1691a-9274-4dc2-a379-dd24586657ef",
   "metadata": {},
   "outputs": [],
   "source": [
    "print(energies)"
   ]
  },
  {
   "cell_type": "code",
   "execution_count": null,
   "id": "e881698f-c713-4fcd-86c3-482490109693",
   "metadata": {},
   "outputs": [],
   "source": [
    "T = [10E5, 10E3, 10E2, 100, 10]\n",
    "\n",
    "for i in range(len(T)):\n",
    "    model = IsingModel(\n",
    "        10,\n",
    "        J=1,\n",
    "        T=T[i],\n",
    "        sampling_method='hit and miss',\n",
    "        boundary_condition='helical'\n",
    "    )\n",
    "    num_sam = 10000\n",
    "    frac = model.fraction_hits(num_sam)\n",
    "    print('T = ', T[i], '       Fraction of hits: ', frac)"
   ]
  },
  {
   "cell_type": "markdown",
   "id": "b8f1b5dd-2d0f-44f5-97f7-2dbcaf9f6ad2",
   "metadata": {},
   "source": [
    "### Metropolis sampling"
   ]
  },
  {
   "cell_type": "code",
   "execution_count": 5,
   "id": "0578c15b-37f1-40e4-aba4-3fed216f0605",
   "metadata": {},
   "outputs": [],
   "source": [
    "# initialize metropolis model\n",
    "N = 50\n",
    "model_metropolis = IsingModel(\n",
    "    N,\n",
    "    J=1,\n",
    "    T=2,\n",
    "    sampling_method='metropolis',\n",
    "    boundary_condition='helical'\n",
    ")"
   ]
  },
  {
   "cell_type": "code",
   "execution_count": 4,
   "id": "8c488e25-dc92-4844-a67e-72b68fceb0f4",
   "metadata": {},
   "outputs": [],
   "source": [
    "num_samples = 10000\n",
    "energies = model_metropolis.sample_energies(num_samples)\n",
    "# print(energies)"
   ]
  },
  {
   "cell_type": "code",
   "execution_count": null,
   "id": "73992770-edd0-4b98-a0ef-eb1677e766b8",
   "metadata": {},
   "outputs": [],
   "source": [
    "print(len(energies))"
   ]
  },
  {
   "cell_type": "code",
   "execution_count": null,
   "id": "15a98006-e2d5-48a6-aa1f-e09e278b67c5",
   "metadata": {},
   "outputs": [],
   "source": [
    "model_metropolis.visualize_energy(energies)"
   ]
  },
  {
   "cell_type": "code",
   "execution_count": null,
   "id": "233b127a-6bd5-4a85-a2b0-3e4f2f5d394c",
   "metadata": {},
   "outputs": [],
   "source": [
    "model_metropolis.make_histogram(energies, normalize=True)"
   ]
  },
  {
   "cell_type": "code",
   "execution_count": null,
   "id": "18227b65-01d2-4435-a30a-e8f1cbf27352",
   "metadata": {},
   "outputs": [
    {
     "name": "stdout",
     "output_type": "stream",
     "text": [
      "2500000\n"
     ]
    }
   ],
   "source": [
    "sweeps = 1000\n",
    "chains = 4\n",
    "model_metropolis.plot_magnetization(sweeps, chains=chains)"
   ]
  },
  {
   "cell_type": "code",
   "execution_count": null,
   "id": "acbf5d86-e550-4ccb-9909-b7386e8ab4ba",
   "metadata": {},
   "outputs": [],
   "source": [
    "import numpy as np\n",
    "J=1\n",
    "T=1\n",
    "M = (1-np.sinh(2*J/T)**(-4))**(1/8)\n",
    "print(M)"
   ]
  },
  {
   "cell_type": "code",
   "execution_count": null,
   "id": "0ac67b1d-4935-472b-8d50-07d449faabb4",
   "metadata": {},
   "outputs": [],
   "source": [
    "# same plot for the magnetization, but broken down in parts\n",
    "# this allows for more flexibility and functionality\n",
    "\n",
    "# Create spin samples\n",
    "spin_samples = model_metropolis.sample_spin_configurations(10000)\n",
    "\n",
    "# create magnetization plot\n",
    "model_metropolis.plot_magnetization(len(spin_samples)/(N**2), spins=spin_samples)"
   ]
  },
  {
   "cell_type": "code",
   "execution_count": null,
   "id": "6f399aaf-7406-4f93-871a-906849ddcd16",
   "metadata": {},
   "outputs": [],
   "source": [
    "# from this figure we estimate the equilibration time to be about 20 sweeps. \n",
    "sweeps_equilibration = 20\n",
    "# convert sweeps to MC steps\n",
    "steps_equilibration = N**2*sweeps_equilibration\n",
    "\n",
    "# create time vector\n",
    "time = np.linspace(steps_equilibration, len(spin_samples), len(spin_samples)-steps_equilibration)\n",
    "for t in time:\n",
    "    model_metropolis.autocorrelation(int(t), steps_equilibration, spin_samples)"
   ]
  },
  {
   "cell_type": "code",
   "execution_count": null,
   "id": "91918518-889b-4432-9193-b8de9a5c8c87",
   "metadata": {},
   "outputs": [],
   "source": []
  }
 ],
 "metadata": {
  "kernelspec": {
   "display_name": "Python 3 (ipykernel)",
   "language": "python",
   "name": "python3"
  },
  "language_info": {
   "codemirror_mode": {
    "name": "ipython",
    "version": 3
   },
   "file_extension": ".py",
   "mimetype": "text/x-python",
   "name": "python",
   "nbconvert_exporter": "python",
   "pygments_lexer": "ipython3",
   "version": "3.8.20"
  }
 },
 "nbformat": 4,
 "nbformat_minor": 5
}
