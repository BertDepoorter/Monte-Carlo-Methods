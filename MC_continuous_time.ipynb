{
 "cells": [
  {
   "cell_type": "markdown",
   "id": "a55fb4a7-eeed-4dac-ab25-b95d2e03dea7",
   "metadata": {},
   "source": [
    "# MC in Continuous Time\n",
    "\n",
    "In this notebook we solve exercise 4.13 from the lecture notes, about Monte Carlo in continuous time."
   ]
  },
  {
   "cell_type": "code",
   "execution_count": 1,
   "id": "8083fe0e-dc16-4ef6-bf95-1658b809dba0",
   "metadata": {},
   "outputs": [],
   "source": [
    "import numpy as np\n",
    "import matplotlib.pyplot as plt"
   ]
  },
  {
   "cell_type": "markdown",
   "id": "80dae02f-b632-4368-8650-b3c0874faad6",
   "metadata": {},
   "source": [
    "## Brute-force method"
   ]
  },
  {
   "cell_type": "code",
   "execution_count": 3,
   "id": "dbeb073f-b102-4314-b9b9-6a6ded695483",
   "metadata": {},
   "outputs": [],
   "source": [
    "def discrete_time_simulation_numpy(alpha, target_x, num_simulations):\n",
    "    times = []\n",
    "    for _ in range(num_simulations):\n",
    "        x = 0\n",
    "        t = 0\n",
    "        while x != target_x:\n",
    "            t += 1\n",
    "            r = np.random.random()  # Generate a random number in [0, 1)\n",
    "            if r < alpha:           # Jump right\n",
    "                x += 1\n",
    "            elif r < 2 * alpha:     # Jump left\n",
    "                x -= 1\n",
    "            # Else, stay in the same position\n",
    "        times.append(t)\n",
    "    return np.mean(times)  # Compute the average time\n"
   ]
  },
  {
   "cell_type": "markdown",
   "id": "4ab2793e-248d-4ade-9e48-96f5b2f48823",
   "metadata": {},
   "source": [
    "# continuous time algorithm"
   ]
  },
  {
   "cell_type": "code",
   "execution_count": 4,
   "id": "68de750f-32c7-43a5-a42e-3dd10920b3e8",
   "metadata": {},
   "outputs": [],
   "source": [
    "def continuous_time_simulation_numpy(alpha, target_x, num_simulations):\n",
    "    delta_t = 1 / (2 * alpha)  # Average time spent on a site\n",
    "    times = []\n",
    "    for _ in range(num_simulations):\n",
    "        x = 0\n",
    "        t = 0\n",
    "        while x != target_x:\n",
    "            t += delta_t\n",
    "            r = np.random.random()  # Generate a random number in [0, 1)\n",
    "            if r < 0.5:             # Jump right\n",
    "                x += 1\n",
    "            else:                   # Jump left\n",
    "                x -= 1\n",
    "        times.append(t)\n",
    "    return np.mean(times)  # Compute the average time\n"
   ]
  },
  {
   "cell_type": "code",
   "execution_count": null,
   "id": "76262c28-680a-405e-b0c1-7bafe5d4df48",
   "metadata": {},
   "outputs": [],
   "source": [
    "import time\n",
    "\n",
    "alpha = 0.01\n",
    "target_x = 20\n",
    "num_simulations = 1000\n",
    "\n",
    "# Measure runtime for discrete-time\n",
    "start = time.time()\n",
    "discrete_time_avg = discrete_time_simulation_numpy(alpha, target_x, num_simulations)\n",
    "end = time.time()\n",
    "print(f\"Discrete-Time Average: {discrete_time_avg}, Runtime: {end - start:.2f}s\")\n",
    "\n",
    "# Measure runtime for continuous-time\n",
    "start = time.time()\n",
    "continuous_time_avg = continuous_time_simulation_numpy(alpha, target_x, num_simulations)\n",
    "end = time.time()\n",
    "print(f\"Continuous-Time Average: {continuous_time_avg}, Runtime: {end - start:.2f}s\")\n"
   ]
  },
  {
   "cell_type": "code",
   "execution_count": null,
   "id": "b2f86345-9d75-45da-a69c-b5ee819afd0a",
   "metadata": {},
   "outputs": [],
   "source": []
  }
 ],
 "metadata": {
  "kernelspec": {
   "display_name": "Python 3 (ipykernel)",
   "language": "python",
   "name": "python3"
  },
  "language_info": {
   "codemirror_mode": {
    "name": "ipython",
    "version": 3
   },
   "file_extension": ".py",
   "mimetype": "text/x-python",
   "name": "python",
   "nbconvert_exporter": "python",
   "pygments_lexer": "ipython3",
   "version": "3.8.20"
  }
 },
 "nbformat": 4,
 "nbformat_minor": 5
}
